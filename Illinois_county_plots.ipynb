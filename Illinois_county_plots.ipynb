{
 "metadata": {
  "language_info": {
   "codemirror_mode": {
    "name": "ipython",
    "version": 3
   },
   "file_extension": ".py",
   "mimetype": "text/x-python",
   "name": "python",
   "nbconvert_exporter": "python",
   "pygments_lexer": "ipython3",
   "version": "3.8.5-final"
  },
  "orig_nbformat": 2,
  "kernelspec": {
   "name": "python3",
   "display_name": "Python 3.8.5 64-bit",
   "metadata": {
    "interpreter": {
     "hash": "dfe326af2e58ad1decbe5e74509e20f17f01580579a75ebd9097456d0892f664"
    }
   }
  }
 },
 "nbformat": 4,
 "nbformat_minor": 2,
 "cells": [
  {
   "cell_type": "code",
   "execution_count": null,
   "metadata": {},
   "outputs": [],
   "source": [
    "import pandas as pd\n",
    "import dataframes as data\n",
    "import matplotlib.pyplot as plt\n",
    "import matplotlib.dates as mdates\n",
    "import numpy as np\n",
    "import datetime"
   ]
  },
  {
   "cell_type": "code",
   "execution_count": null,
   "metadata": {},
   "outputs": [],
   "source": [
    "df = data.createdf()"
   ]
  },
  {
   "cell_type": "code",
   "execution_count": null,
   "metadata": {},
   "outputs": [],
   "source": [
    "county = input(\"Input an Illinois County: \")\n",
    "queryFilter = \"Admin2 == \\\"\" + county + \"\\\"\"\n",
    "df_county = df.query(queryFilter)"
   ]
  },
  {
   "cell_type": "code",
   "execution_count": null,
   "metadata": {
    "tags": []
   },
   "outputs": [],
   "source": [
    "dates = []\n",
    "\n",
    "for dat in df_county.Last_Update:\n",
    "    dates.append(datetime.datetime.strptime(dat, '%Y-%m-%d %H:%M:%S'))\n",
    "\n",
    "pltdates = mdates.date2num(dates)\n",
    "plt.plot(dates,df_county.Confirmed, label='Confirmed Cases')\n",
    "plt.plot(dates,df_county.Active, label='Active Cases')\n",
    "plt.plot(dates,df_county.Deaths, label='Deaths')\n",
    "\n",
    "plt.xlabel('Date')\n",
    "plt.xticks(rotation=45)\n",
    "plt.ylabel('Number of Cases')\n",
    "title = county + \" County Covid Cases\"\n",
    "plt.title(title)\n",
    "plt.legend()\n",
    "fig = plt.figure()\n"
   ]
  },
  {
   "cell_type": "code",
   "execution_count": null,
   "metadata": {},
   "outputs": [],
   "source": []
  }
 ]
}