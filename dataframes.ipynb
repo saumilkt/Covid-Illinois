{
 "metadata": {
  "language_info": {
   "codemirror_mode": {
    "name": "ipython",
    "version": 3
   },
   "file_extension": ".py",
   "mimetype": "text/x-python",
   "name": "python",
   "nbconvert_exporter": "python",
   "pygments_lexer": "ipython3",
   "version": "3.8.5-final"
  },
  "orig_nbformat": 2,
  "kernelspec": {
   "name": "Python 3.8.5 64-bit",
   "display_name": "Python 3.8.5 64-bit",
   "metadata": {
    "interpreter": {
     "hash": "dfe326af2e58ad1decbe5e74509e20f17f01580579a75ebd9097456d0892f664"
    }
   }
  }
 },
 "nbformat": 4,
 "nbformat_minor": 2,
 "cells": [
  {
   "cell_type": "code",
   "execution_count": 1,
   "metadata": {},
   "outputs": [],
   "source": [
    "import pandas as pd"
   ]
  },
  {
   "cell_type": "code",
   "execution_count": 5,
   "metadata": {
    "tags": []
   },
   "outputs": [],
   "source": [
    "def createdf():\n",
    "    filter = ['Admin2', 'Lat', 'Long_', 'Last_Update', 'Confirmed', 'Deaths', 'Recovered', 'Active', 'Incidence_Rate', 'Case-Fatality_Ratio']\n",
    "\n",
    "    for i in range(7,12):\n",
    "        for j in range(31):\n",
    "            tempAddressMonth = 'https://raw.githubusercontent.com/CSSEGISandData/COVID-19/master/csse_covid_19_data/csse_covid_19_daily_reports/'\n",
    "\n",
    "            if i + 1 < 10:\n",
    "                tempAddressMonth = tempAddressMonth + \"0\" + str(i+1)\n",
    "            else:\n",
    "                tempAddressMonth = tempAddressMonth + str(i+1)\n",
    "\n",
    "            tempAddressDay = tempAddressMonth + \"-\"\n",
    "\n",
    "            if j + 1 < 10:\n",
    "                tempAddressDay = tempAddressDay + \"0\" + str(j+1)\n",
    "            else:\n",
    "                tempAddressDay = tempAddressDay + str(j+1)\n",
    "            \n",
    "            tempAddressDay = tempAddressDay + \"-2020.csv\"\n",
    "\n",
    "            try:\n",
    "                temp_df = pd.read_csv(tempAddressDay)\n",
    "\n",
    "                temp_df = temp_df.query('Province_State == \"Illinois\"')\n",
    "                temp_df = temp_df.query('Country_Region == \"US\"')\n",
    "\n",
    "                temp_df = temp_df.rename(columns = {\"Incident_Rate\":\"Incidence_Rate\"})\n",
    "                temp_df = temp_df.rename(columns = {\"Case_Fatality_Ratio\":\"Case-Fatality_Ratio\"})\n",
    "                temp_df = temp_df[filter]\n",
    "                if i == 7 and j == 0:\n",
    "                    df = temp_df\n",
    "                else:\n",
    "                    df = pd.concat([df,temp_df])\n",
    "                print(\"Data for \" + str(i + 1) + \"/\" + str(j + 1) + \" added\")\n",
    "            except IOError:\n",
    "                i = i\n",
    "                j = j\n",
    "\n",
    "    print(\"Done creating dataframes\")\n",
    "    return df"
   ]
  }
 ]
}