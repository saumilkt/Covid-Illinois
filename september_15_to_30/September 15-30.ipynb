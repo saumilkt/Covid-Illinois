{
 "cells": [
  {
   "cell_type": "code",
   "execution_count": 1,
   "metadata": {},
   "outputs": [],
   "source": [
    "import pandas as pd"
   ]
  },
  {
   "cell_type": "code",
   "execution_count": 2,
   "metadata": {},
   "outputs": [],
   "source": [
    "# 9-15\n",
    "df_9_15 = pd.read_csv('https://raw.githubusercontent.com/CSSEGISandData/COVID-19/master/csse_covid_19_data/csse_covid_19_daily_reports/09-15-2020.csv')\n",
    "\n",
    "for index, row in df_9_15.iterrows():\n",
    "    if (not('US' in row['Country_Region'])):\n",
    "        df_9_15.drop(index, inplace=True)\n",
    "        \n",
    "for index, row in df_9_15.iterrows():\n",
    "    if (not('Illinois' in row['Province_State'])):\n",
    "        df_9_15.drop(index, inplace=True)    "
   ]
  },
  {
   "cell_type": "code",
   "execution_count": 3,
   "metadata": {},
   "outputs": [],
   "source": [
    "# 9-16\n",
    "df_9_16 = pd.read_csv('https://raw.githubusercontent.com/CSSEGISandData/COVID-19/master/csse_covid_19_data/csse_covid_19_daily_reports/09-16-2020.csv')\n",
    "\n",
    "for index, row in df_9_16.iterrows():\n",
    "    if (not('US' in row['Country_Region'])):\n",
    "        df_9_16.drop(index, inplace=True)\n",
    "        \n",
    "for index, row in df_9_16.iterrows():\n",
    "    if (not('Illinois' in row['Province_State'])):\n",
    "        df_9_16.drop(index, inplace=True)    "
   ]
  },
  {
   "cell_type": "code",
   "execution_count": 4,
   "metadata": {},
   "outputs": [],
   "source": [
    "# 9-17\n",
    "df_9_17 = pd.read_csv('https://raw.githubusercontent.com/CSSEGISandData/COVID-19/master/csse_covid_19_data/csse_covid_19_daily_reports/09-17-2020.csv')\n",
    "\n",
    "for index, row in df_9_17.iterrows():\n",
    "    if (not('US' in row['Country_Region'])):\n",
    "        df_9_17.drop(index, inplace=True)\n",
    "        \n",
    "for index, row in df_9_17.iterrows():\n",
    "    if (not('Illinois' in row['Province_State'])):\n",
    "        df_9_17.drop(index, inplace=True)     "
   ]
  },
  {
   "cell_type": "code",
   "execution_count": 5,
   "metadata": {},
   "outputs": [],
   "source": [
    "# 9-18\n",
    "df_9_18 = pd.read_csv('https://raw.githubusercontent.com/CSSEGISandData/COVID-19/master/csse_covid_19_data/csse_covid_19_daily_reports/09-18-2020.csv')\n",
    "\n",
    "for index, row in df_9_18.iterrows():\n",
    "    if (not('US' in row['Country_Region'])):\n",
    "        df_9_18.drop(index, inplace=True)\n",
    "        \n",
    "for index, row in df_9_18.iterrows():\n",
    "    if (not('Illinois' in row['Province_State'])):\n",
    "        df_9_18.drop(index, inplace=True)    "
   ]
  },
  {
   "cell_type": "code",
   "execution_count": 6,
   "metadata": {},
   "outputs": [],
   "source": [
    "# 9-19\n",
    "df_9_19 = pd.read_csv('https://raw.githubusercontent.com/CSSEGISandData/COVID-19/master/csse_covid_19_data/csse_covid_19_daily_reports/09-19-2020.csv')\n",
    "\n",
    "for index, row in df_9_19.iterrows():\n",
    "    if (not('US' in row['Country_Region'])):\n",
    "        df_9_19.drop(index, inplace=True)\n",
    "        \n",
    "for index, row in df_9_19.iterrows():\n",
    "    if (not('Illinois' in row['Province_State'])):\n",
    "        df_9_19.drop(index, inplace=True)   "
   ]
  },
  {
   "cell_type": "code",
   "execution_count": 7,
   "metadata": {},
   "outputs": [],
   "source": [
    "# 9-20\n",
    "df_9_20 = pd.read_csv('https://raw.githubusercontent.com/CSSEGISandData/COVID-19/master/csse_covid_19_data/csse_covid_19_daily_reports/09-20-2020.csv')\n",
    "\n",
    "for index, row in df_9_20.iterrows():\n",
    "    if (not('US' in row['Country_Region'])):\n",
    "        df_9_20.drop(index, inplace=True)\n",
    "        \n",
    "for index, row in df_9_20.iterrows():\n",
    "    if (not('Illinois' in row['Province_State'])):\n",
    "        df_9_20.drop(index, inplace=True)"
   ]
  },
  {
   "cell_type": "code",
   "execution_count": 8,
   "metadata": {},
   "outputs": [],
   "source": [
    "# 9-21\n",
    "df_9_21 = pd.read_csv('https://raw.githubusercontent.com/CSSEGISandData/COVID-19/master/csse_covid_19_data/csse_covid_19_daily_reports/09-21-2020.csv')\n",
    "\n",
    "for index, row in df_9_21.iterrows():\n",
    "    if (not('US' in row['Country_Region'])):\n",
    "        df_9_21.drop(index, inplace=True)\n",
    "        \n",
    "for index, row in df_9_21.iterrows():\n",
    "    if (not('Illinois' in row['Province_State'])):\n",
    "        df_9_21.drop(index, inplace=True)"
   ]
  },
  {
   "cell_type": "code",
   "execution_count": 10,
   "metadata": {},
   "outputs": [],
   "source": [
    "# 9-22\n",
    "df_9_22 = pd.read_csv('https://raw.githubusercontent.com/CSSEGISandData/COVID-19/master/csse_covid_19_data/csse_covid_19_daily_reports/09-22-2020.csv')\n",
    "\n",
    "for index, row in df_9_22.iterrows():\n",
    "    if (not('US' in row['Country_Region'])):\n",
    "        df_9_22.drop(index, inplace=True)\n",
    "        \n",
    "for index, row in df_9_22.iterrows():\n",
    "    if (not('Illinois' in row['Province_State'])):\n",
    "        df_9_22.drop(index, inplace=True)"
   ]
  },
  {
   "cell_type": "code",
   "execution_count": 11,
   "metadata": {},
   "outputs": [],
   "source": [
    "# 9-23\n",
    "df_9_23 = pd.read_csv('https://raw.githubusercontent.com/CSSEGISandData/COVID-19/master/csse_covid_19_data/csse_covid_19_daily_reports/09-23-2020.csv')\n",
    "\n",
    "for index, row in df_9_23.iterrows():\n",
    "    if (not('US' in row['Country_Region'])):\n",
    "        df_9_23.drop(index, inplace=True)\n",
    "        \n",
    "for index, row in df_9_23.iterrows():\n",
    "    if (not('Illinois' in row['Province_State'])):\n",
    "        df_9_23.drop(index, inplace=True)"
   ]
  },
  {
   "cell_type": "code",
   "execution_count": 12,
   "metadata": {},
   "outputs": [],
   "source": [
    "# 9-24\n",
    "df_9_24 = pd.read_csv('https://raw.githubusercontent.com/CSSEGISandData/COVID-19/master/csse_covid_19_data/csse_covid_19_daily_reports/09-24-2020.csv')\n",
    "\n",
    "for index, row in df_9_24.iterrows():\n",
    "    if (not('US' in row['Country_Region'])):\n",
    "        df_9_24.drop(index, inplace=True)\n",
    "        \n",
    "for index, row in df_9_24.iterrows():\n",
    "    if (not('Illinois' in row['Province_State'])):\n",
    "        df_9_24.drop(index, inplace=True)"
   ]
  },
  {
   "cell_type": "code",
   "execution_count": 13,
   "metadata": {},
   "outputs": [],
   "source": [
    "# 9-25\n",
    "df_9_25 = pd.read_csv('https://raw.githubusercontent.com/CSSEGISandData/COVID-19/master/csse_covid_19_data/csse_covid_19_daily_reports/09-25-2020.csv')\n",
    "\n",
    "for index, row in df_9_25.iterrows():\n",
    "    if (not('US' in row['Country_Region'])):\n",
    "        df_9_25.drop(index, inplace=True)\n",
    "        \n",
    "for index, row in df_9_25.iterrows():\n",
    "    if (not('Illinois' in row['Province_State'])):\n",
    "        df_9_25.drop(index, inplace=True)"
   ]
  },
  {
   "cell_type": "code",
   "execution_count": 14,
   "metadata": {},
   "outputs": [],
   "source": [
    "# 9-26\n",
    "df_9_26 = pd.read_csv('https://raw.githubusercontent.com/CSSEGISandData/COVID-19/master/csse_covid_19_data/csse_covid_19_daily_reports/09-26-2020.csv')\n",
    "\n",
    "for index, row in df_9_26.iterrows():\n",
    "    if (not('US' in row['Country_Region'])):\n",
    "        df_9_26.drop(index, inplace=True)\n",
    "        \n",
    "for index, row in df_9_26.iterrows():\n",
    "    if (not('Illinois' in row['Province_State'])):\n",
    "        df_9_26.drop(index, inplace=True)"
   ]
  },
  {
   "cell_type": "code",
   "execution_count": 15,
   "metadata": {},
   "outputs": [],
   "source": [
    "# 9-27\n",
    "df_9_27 = pd.read_csv('https://raw.githubusercontent.com/CSSEGISandData/COVID-19/master/csse_covid_19_data/csse_covid_19_daily_reports/09-27-2020.csv')\n",
    "\n",
    "for index, row in df_9_27.iterrows():\n",
    "    if (not('US' in row['Country_Region'])):\n",
    "        df_9_27.drop(index, inplace=True)\n",
    "        \n",
    "for index, row in df_9_27.iterrows():\n",
    "    if (not('Illinois' in row['Province_State'])):\n",
    "        df_9_27.drop(index, inplace=True)"
   ]
  },
  {
   "cell_type": "code",
   "execution_count": 16,
   "metadata": {},
   "outputs": [],
   "source": [
    "# 9-28\n",
    "df_9_28 = pd.read_csv('https://raw.githubusercontent.com/CSSEGISandData/COVID-19/master/csse_covid_19_data/csse_covid_19_daily_reports/09-28-2020.csv')\n",
    "\n",
    "for index, row in df_9_28.iterrows():\n",
    "    if (not('US' in row['Country_Region'])):\n",
    "        df_9_28.drop(index, inplace=True)\n",
    "        \n",
    "for index, row in df_9_28.iterrows():\n",
    "    if (not('Illinois' in row['Province_State'])):\n",
    "        df_9_28.drop(index, inplace=True)"
   ]
  },
  {
   "cell_type": "code",
   "execution_count": 17,
   "metadata": {},
   "outputs": [],
   "source": [
    "# 9-29\n",
    "df_9_29 = pd.read_csv('https://raw.githubusercontent.com/CSSEGISandData/COVID-19/master/csse_covid_19_data/csse_covid_19_daily_reports/09-29-2020.csv')\n",
    "\n",
    "for index, row in df_9_29.iterrows():\n",
    "    if (not('US' in row['Country_Region'])):\n",
    "        df_9_29.drop(index, inplace=True)\n",
    "        \n",
    "for index, row in df_9_29.iterrows():\n",
    "    if (not('Illinois' in row['Province_State'])):\n",
    "        df_9_29.drop(index, inplace=True)"
   ]
  },
  {
   "cell_type": "code",
   "execution_count": 18,
   "metadata": {},
   "outputs": [],
   "source": [
    "# 9-30\n",
    "df_9_30 = pd.read_csv('https://raw.githubusercontent.com/CSSEGISandData/COVID-19/master/csse_covid_19_data/csse_covid_19_daily_reports/09-30-2020.csv')\n",
    "\n",
    "for index, row in df_9_30.iterrows():\n",
    "    if (not('US' in row['Country_Region'])):\n",
    "        df_9_30.drop(index, inplace=True)\n",
    "        \n",
    "for index, row in df_9_30.iterrows():\n",
    "    if (not('Illinois' in row['Province_State'])):\n",
    "        df_9_30.drop(index, inplace=True)"
   ]
  }
 ],
 "metadata": {
  "language_info": {
   "codemirror_mode": {
    "name": "ipython",
    "version": 3
   },
   "file_extension": ".py",
   "mimetype": "text/x-python",
   "name": "python",
   "nbconvert_exporter": "python",
   "pygments_lexer": "ipython3",
   "version": "3.8.3"
  }
 },
 "nbformat": 4,
 "nbformat_minor": 4
}
